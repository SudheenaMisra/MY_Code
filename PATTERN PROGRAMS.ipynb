{
  "nbformat": 4,
  "nbformat_minor": 0,
  "metadata": {
    "colab": {
      "name": "Untitled5.ipynb",
      "provenance": [],
      "authorship_tag": "ABX9TyNvF/O6IhHipDdaPIe9UxQh",
      "include_colab_link": true
    },
    "kernelspec": {
      "name": "python3",
      "display_name": "Python 3"
    }
  },
  "cells": [
    {
      "cell_type": "markdown",
      "metadata": {
        "id": "view-in-github",
        "colab_type": "text"
      },
      "source": [
        "<a href=\"https://colab.research.google.com/github/SudheenaMisra/MY_Code/blob/main/PATTERN%20PROGRAMS.ipynb\" target=\"_parent\"><img src=\"https://colab.research.google.com/assets/colab-badge.svg\" alt=\"Open In Colab\"/></a>"
      ]
    },
    {
      "cell_type": "code",
      "metadata": {
        "id": "GSniFYC24u8b"
      },
      "source": [
        ""
      ],
      "execution_count": null,
      "outputs": []
    },
    {
      "cell_type": "markdown",
      "metadata": {
        "id": "XcK1FppK6WqH"
      },
      "source": [
        "PATTERN_1"
      ]
    },
    {
      "cell_type": "code",
      "metadata": {
        "colab": {
          "base_uri": "https://localhost:8080/"
        },
        "id": "bPBzgKy86Yhn",
        "outputId": "85ca16a1-4a38-461b-b535-96b77f9bb422"
      },
      "source": [
        "for i in range(5):\r\n",
        "    for j in range(0,i+1):\r\n",
        "        print(\"@\", end=\" \")\r\n",
        "    print()"
      ],
      "execution_count": 1,
      "outputs": [
        {
          "output_type": "stream",
          "text": [
            "@ \n",
            "@ @ \n",
            "@ @ @ \n",
            "@ @ @ @ \n",
            "@ @ @ @ @ \n"
          ],
          "name": "stdout"
        }
      ]
    },
    {
      "cell_type": "markdown",
      "metadata": {
        "id": "HR0bHAiH6w49"
      },
      "source": [
        "PATTERN_2"
      ]
    },
    {
      "cell_type": "code",
      "metadata": {
        "colab": {
          "base_uri": "https://localhost:8080/"
        },
        "id": "dKa6rghs62Jl",
        "outputId": "b9b0d1dd-7b81-49cf-9ff7-9d4bf038ed71"
      },
      "source": [
        "for i in range(5):\r\n",
        "    for j in range(0,5-i):\r\n",
        "        print(\"@\", end=\" \")\r\n",
        "    print()"
      ],
      "execution_count": 2,
      "outputs": [
        {
          "output_type": "stream",
          "text": [
            "@ @ @ @ @ \n",
            "@ @ @ @ \n",
            "@ @ @ \n",
            "@ @ \n",
            "@ \n"
          ],
          "name": "stdout"
        }
      ]
    },
    {
      "cell_type": "markdown",
      "metadata": {
        "id": "8XHLcjHR6_uP"
      },
      "source": [
        "PATTERN_3"
      ]
    },
    {
      "cell_type": "code",
      "metadata": {
        "colab": {
          "base_uri": "https://localhost:8080/"
        },
        "id": "9DP6v83x698Z",
        "outputId": "27fb34be-a3d0-453c-cd0b-ab4df0cfb707"
      },
      "source": [
        "for i in range(1,5):\r\n",
        "    for j in range(1,5-i):\r\n",
        "        print(\" \",end=\" \")\r\n",
        "\r\n",
        "    for k in range(1,i+1):\r\n",
        "        print(\"@\",end=\" \")\r\n",
        "\r\n",
        "    for l in range(2,i+1):\r\n",
        "        print(\"@\", end=\" \")\r\n",
        "    print()"
      ],
      "execution_count": 3,
      "outputs": [
        {
          "output_type": "stream",
          "text": [
            "      @ \n",
            "    @ @ @ \n",
            "  @ @ @ @ @ \n",
            "@ @ @ @ @ @ @ \n"
          ],
          "name": "stdout"
        }
      ]
    },
    {
      "cell_type": "markdown",
      "metadata": {
        "id": "gu9UFN557EL8"
      },
      "source": [
        "PATTERN_4"
      ]
    },
    {
      "cell_type": "code",
      "metadata": {
        "colab": {
          "base_uri": "https://localhost:8080/"
        },
        "id": "UGXbe5sd7Ewm",
        "outputId": "89b44e94-439c-4c9a-f9f3-d2fe738afc18"
      },
      "source": [
        "for i in range(0,5):\r\n",
        "    for j in range(1,i+1):\r\n",
        "        print(\" \", end=\" \")\r\n",
        "\r\n",
        "    for k in range(1,6-i):\r\n",
        "        print(\"@\", end=\" \")\r\n",
        "\r\n",
        "    for l in range(2,6-i):\r\n",
        "        print(\"@\", end=\" \")\r\n",
        "    print()\r\n"
      ],
      "execution_count": 6,
      "outputs": [
        {
          "output_type": "stream",
          "text": [
            "@ @ @ @ @ @ @ @ @ \n",
            "  @ @ @ @ @ @ @ \n",
            "    @ @ @ @ @ \n",
            "      @ @ @ \n",
            "        @ \n"
          ],
          "name": "stdout"
        }
      ]
    },
    {
      "cell_type": "markdown",
      "metadata": {
        "id": "aasZ20gC7qco"
      },
      "source": [
        "PATTERN_5"
      ]
    },
    {
      "cell_type": "code",
      "metadata": {
        "colab": {
          "base_uri": "https://localhost:8080/"
        },
        "id": "P2fXLvKL7rEB",
        "outputId": "ab6413f7-e1d9-4803-d698-19dc0fe54f47"
      },
      "source": [
        "for i in range(1,6):\r\n",
        "    for j in range(1,6-i):\r\n",
        "        print(\" \", end=\" \")\r\n",
        "\r\n",
        "    for j in range(1,i+1):\r\n",
        "        print(\"@\", end=\" \")\r\n",
        "\r\n",
        "    for k in range(2,i+1):\r\n",
        "        print(\"@\", end=\" \")\r\n",
        "\r\n",
        "    print()\r\n",
        "\r\n",
        "for m in range(1,6):\r\n",
        "    for l in range(1,m+1):\r\n",
        "        print(\" \",end=\" \")\r\n",
        "\r\n",
        "    for n in range(1,6-m):\r\n",
        "        print(\"@\",end=\" \")\r\n",
        "\r\n",
        "    for p in range(1,5-m):\r\n",
        "        print(\"@\",end=\" \")\r\n",
        "    print()"
      ],
      "execution_count": 7,
      "outputs": [
        {
          "output_type": "stream",
          "text": [
            "        @ \n",
            "      @ @ @ \n",
            "    @ @ @ @ @ \n",
            "  @ @ @ @ @ @ @ \n",
            "@ @ @ @ @ @ @ @ @ \n",
            "  @ @ @ @ @ @ @ \n",
            "    @ @ @ @ @ \n",
            "      @ @ @ \n",
            "        @ \n",
            "          \n"
          ],
          "name": "stdout"
        }
      ]
    },
    {
      "cell_type": "markdown",
      "metadata": {
        "id": "ggHezaR67x1t"
      },
      "source": [
        "PATTERN_6"
      ]
    },
    {
      "cell_type": "code",
      "metadata": {
        "colab": {
          "base_uri": "https://localhost:8080/"
        },
        "id": "fhAp2m-27ySr",
        "outputId": "f14c1542-56ae-4db9-ac0c-fd7be01dd80d"
      },
      "source": [
        "for i in range(6):\r\n",
        "    for j in range(1,i+1):\r\n",
        "        print(\"@\", end=\" \")\r\n",
        "    print()\r\n",
        "\r\n",
        "for k in range(5):\r\n",
        "    for l in range(1,5-k):\r\n",
        "        print(\"@\",end=\" \")\r\n",
        "    print()"
      ],
      "execution_count": 8,
      "outputs": [
        {
          "output_type": "stream",
          "text": [
            "\n",
            "@ \n",
            "@ @ \n",
            "@ @ @ \n",
            "@ @ @ @ \n",
            "@ @ @ @ @ \n",
            "@ @ @ @ \n",
            "@ @ @ \n",
            "@ @ \n",
            "@ \n",
            "\n"
          ],
          "name": "stdout"
        }
      ]
    },
    {
      "cell_type": "markdown",
      "metadata": {
        "id": "SF7fXlRE7Z_O"
      },
      "source": [
        "PATTERN_7"
      ]
    },
    {
      "cell_type": "code",
      "metadata": {
        "colab": {
          "base_uri": "https://localhost:8080/"
        },
        "id": "J3BWqmZA8O6F",
        "outputId": "e0c95da0-c478-4c14-c018-cc7be69f11f8"
      },
      "source": [
        "for i in range(6):\r\n",
        "    for j in range(1,6-i):\r\n",
        "        print(\" \", end=\" \")\r\n",
        "\r\n",
        "    for k in range(1,i+1):\r\n",
        "        print(\"@\",end=\" \")\r\n",
        "    print()\r\n",
        "\r\n",
        "for l in range(5):\r\n",
        "    for m in range(1,5-l):\r\n",
        "        print(\"@\",end=\" \")\r\n",
        "    print()"
      ],
      "execution_count": 9,
      "outputs": [
        {
          "output_type": "stream",
          "text": [
            "          \n",
            "        @ \n",
            "      @ @ \n",
            "    @ @ @ \n",
            "  @ @ @ @ \n",
            "@ @ @ @ @ \n",
            "@ @ @ @ \n",
            "@ @ @ \n",
            "@ @ \n",
            "@ \n",
            "\n"
          ],
          "name": "stdout"
        }
      ]
    },
    {
      "cell_type": "markdown",
      "metadata": {
        "id": "HDIUlTfk8iEj"
      },
      "source": [
        "PATTERN_8"
      ]
    },
    {
      "cell_type": "code",
      "metadata": {
        "colab": {
          "base_uri": "https://localhost:8080/"
        },
        "id": "zd1a03FB8iyY",
        "outputId": "4d1963b2-ab30-4154-8766-620d91a45a22"
      },
      "source": [
        "for i in range(6):\r\n",
        "    for j in range(1,6-i):\r\n",
        "        print(\" \", end=\" \")\r\n",
        "\r\n",
        "    for k in range(1,i+1):\r\n",
        "        print(\"@\",end=\" \")\r\n",
        "    print()\r\n",
        "\r\n",
        "for l in range(6):\r\n",
        "    for n in range(1,l+2):\r\n",
        "        print(\" \", end=\" \")\r\n",
        "    for m in range(2,6-l):\r\n",
        "        print(\"@\",end=\" \")\r\n",
        "    print()"
      ],
      "execution_count": 10,
      "outputs": [
        {
          "output_type": "stream",
          "text": [
            "          \n",
            "        @ \n",
            "      @ @ \n",
            "    @ @ @ \n",
            "  @ @ @ @ \n",
            "@ @ @ @ @ \n",
            "  @ @ @ @ \n",
            "    @ @ @ \n",
            "      @ @ \n",
            "        @ \n",
            "          \n",
            "            \n"
          ],
          "name": "stdout"
        }
      ]
    },
    {
      "cell_type": "markdown",
      "metadata": {
        "id": "Uf3zwfdw8v5D"
      },
      "source": [
        "PATTERN_9"
      ]
    },
    {
      "cell_type": "code",
      "metadata": {
        "colab": {
          "base_uri": "https://localhost:8080/"
        },
        "id": "iaSQXN0x80VB",
        "outputId": "ecf723b3-27be-4372-9bad-fdd69bb41068"
      },
      "source": [
        "c=1\r\n",
        "for i in range(7):\r\n",
        "    for j in range(1,i+1):\r\n",
        "        print(c,end=\" \")\r\n",
        "        c+=1\r\n",
        "    print()\r\n"
      ],
      "execution_count": 12,
      "outputs": [
        {
          "output_type": "stream",
          "text": [
            "\n",
            "1 \n",
            "2 3 \n",
            "4 5 6 \n",
            "7 8 9 10 \n",
            "11 12 13 14 15 \n",
            "16 17 18 19 20 21 \n"
          ],
          "name": "stdout"
        }
      ]
    },
    {
      "cell_type": "markdown",
      "metadata": {
        "id": "uivwLz7A8-0v"
      },
      "source": [
        "PATTERN_10"
      ]
    },
    {
      "cell_type": "code",
      "metadata": {
        "colab": {
          "base_uri": "https://localhost:8080/"
        },
        "id": "oYqI2Ge68_S_",
        "outputId": "fc0f236f-5672-431e-ea4a-eb13cef850da"
      },
      "source": [
        "s=\"python\"\r\n",
        "for i in range(6):\r\n",
        "    for j in range(i+1):\r\n",
        "        print(s[j],end=\" \")\r\n",
        "    print()"
      ],
      "execution_count": 13,
      "outputs": [
        {
          "output_type": "stream",
          "text": [
            "p \n",
            "p y \n",
            "p y t \n",
            "p y t h \n",
            "p y t h o \n",
            "p y t h o n \n"
          ],
          "name": "stdout"
        }
      ]
    },
    {
      "cell_type": "markdown",
      "metadata": {
        "id": "VbkissoF9Dhv"
      },
      "source": [
        "PATTERN_11"
      ]
    },
    {
      "cell_type": "code",
      "metadata": {
        "colab": {
          "base_uri": "https://localhost:8080/"
        },
        "id": "FTZtedWH9EA3",
        "outputId": "587b4a30-f3ae-436b-decf-5b3a601c9421"
      },
      "source": [
        "\r\n",
        "for i in range(6):\r\n",
        "    for j in range(1,6-i):\r\n",
        "        print(j,end=\" \")\r\n",
        "    print()"
      ],
      "execution_count": 14,
      "outputs": [
        {
          "output_type": "stream",
          "text": [
            "1 2 3 4 5 \n",
            "1 2 3 4 \n",
            "1 2 3 \n",
            "1 2 \n",
            "1 \n",
            "\n"
          ],
          "name": "stdout"
        }
      ]
    },
    {
      "cell_type": "markdown",
      "metadata": {
        "id": "u1lCNeEU9JDl"
      },
      "source": [
        "PATTERN_12"
      ]
    },
    {
      "cell_type": "code",
      "metadata": {
        "colab": {
          "base_uri": "https://localhost:8080/"
        },
        "id": "xofPTa6H9JgB",
        "outputId": "0c7bbc62-1e6e-4e03-a3d5-c93d35bc1917"
      },
      "source": [
        "for i in range(1,8):\r\n",
        "    for j in range(1, 8 - i):\r\n",
        "        print(i, end=\" \")\r\n",
        "    print()"
      ],
      "execution_count": 24,
      "outputs": [
        {
          "output_type": "stream",
          "text": [
            "1 1 1 1 1 1 \n",
            "2 2 2 2 2 \n",
            "3 3 3 3 \n",
            "4 4 4 \n",
            "5 5 \n",
            "6 \n",
            "\n"
          ],
          "name": "stdout"
        }
      ]
    },
    {
      "cell_type": "markdown",
      "metadata": {
        "id": "LD4e51_f9W6u"
      },
      "source": [
        "PATTERN_13"
      ]
    },
    {
      "cell_type": "code",
      "metadata": {
        "colab": {
          "base_uri": "https://localhost:8080/"
        },
        "id": "T7shR5aE9XLB",
        "outputId": "ba64e051-090d-4efe-99fa-a52c1bb6c097"
      },
      "source": [
        "for i in range(5,0,-1):\r\n",
        "    for j in range(1,i+1):\r\n",
        "        print(i,end=\" \")\r\n",
        "\r\n",
        "    print()"
      ],
      "execution_count": 17,
      "outputs": [
        {
          "output_type": "stream",
          "text": [
            "5 5 5 5 5 \n",
            "4 4 4 4 \n",
            "3 3 3 \n",
            "2 2 \n",
            "1 \n"
          ],
          "name": "stdout"
        }
      ]
    },
    {
      "cell_type": "markdown",
      "metadata": {
        "id": "p3ttTBUM9wp4"
      },
      "source": [
        "PATTERN_14"
      ]
    },
    {
      "cell_type": "code",
      "metadata": {
        "colab": {
          "base_uri": "https://localhost:8080/"
        },
        "id": "GSt-AyIL9w6k",
        "outputId": "18585bd9-7927-4f5b-ac64-261e9c0db213"
      },
      "source": [
        "for i in range(1,9,2):\r\n",
        "    for j in range(1,i+1):\r\n",
        "        print(i,end=\" \")\r\n",
        "\r\n",
        "    print()\r\n"
      ],
      "execution_count": 18,
      "outputs": [
        {
          "output_type": "stream",
          "text": [
            "1 \n",
            "3 3 3 \n",
            "5 5 5 5 5 \n",
            "7 7 7 7 7 7 7 \n"
          ],
          "name": "stdout"
        }
      ]
    },
    {
      "cell_type": "markdown",
      "metadata": {
        "id": "jppNgiO--CDI"
      },
      "source": [
        "PATTERN_15"
      ]
    },
    {
      "cell_type": "code",
      "metadata": {
        "colab": {
          "base_uri": "https://localhost:8080/"
        },
        "id": "oMnZ2A9K-C6Z",
        "outputId": "27c41c81-fa5f-4bf7-df54-006d5c38dc5f"
      },
      "source": [
        "for i in range(5):\r\n",
        "     for j in range(5):\r\n",
        "         if i+j==4 or i==4:\r\n",
        "             print(\"@\",end=\" \")\r\n",
        "         else:print(end=\"  \")\r\n",
        "     for k in range(1,5):\r\n",
        "         if i==k or i==4:\r\n",
        "             print(\"@\",end=\" \")\r\n",
        "         else:print(end=\"  \")\r\n",
        "     print()"
      ],
      "execution_count": 19,
      "outputs": [
        {
          "output_type": "stream",
          "text": [
            "        @         \n",
            "      @   @       \n",
            "    @       @     \n",
            "  @           @   \n",
            "@ @ @ @ @ @ @ @ @ \n"
          ],
          "name": "stdout"
        }
      ]
    },
    {
      "cell_type": "markdown",
      "metadata": {
        "id": "PEyBCBnv-YtH"
      },
      "source": [
        "PATTERN_16"
      ]
    },
    {
      "cell_type": "code",
      "metadata": {
        "colab": {
          "base_uri": "https://localhost:8080/"
        },
        "id": "6OmFTO5U-ZN6",
        "outputId": "7eeb05fb-208a-4a2d-acc8-99e64d2ab73c"
      },
      "source": [
        "for i in range(5):\r\n",
        "    for j in range(5):\r\n",
        "        if i+j==4 or (i==4 and (j==2 or j==4)):\r\n",
        "            print(\"@\",end=\" \")\r\n",
        "        else:print(end=\"  \")\r\n",
        "    for k in range(1,5):\r\n",
        "        if i==k or (k==2 and i==4):\r\n",
        "            print(\"@\",end=\" \")\r\n",
        "        else:print(end=\"  \")\r\n",
        "    print()"
      ],
      "execution_count": 20,
      "outputs": [
        {
          "output_type": "stream",
          "text": [
            "        @         \n",
            "      @   @       \n",
            "    @       @     \n",
            "  @           @   \n",
            "@   @   @   @   @ \n"
          ],
          "name": "stdout"
        }
      ]
    },
    {
      "cell_type": "markdown",
      "metadata": {
        "id": "LYTBxp6f-t2i"
      },
      "source": [
        "PATTERN_17"
      ]
    },
    {
      "cell_type": "code",
      "metadata": {
        "colab": {
          "base_uri": "https://localhost:8080/"
        },
        "id": "-INNQwuB-uKA",
        "outputId": "646e6351-9a83-4f4f-f651-0f26bc1426ef"
      },
      "source": [
        "for i in range(6):\r\n",
        "    for j in range(6):\r\n",
        "        if i==0 or j==5 or i==j:\r\n",
        "            print(\"@\",end=\" \")\r\n",
        "        else:print(end=\"  \")\r\n",
        "    print()"
      ],
      "execution_count": 21,
      "outputs": [
        {
          "output_type": "stream",
          "text": [
            "@ @ @ @ @ @ \n",
            "  @       @ \n",
            "    @     @ \n",
            "      @   @ \n",
            "        @ @ \n",
            "          @ \n"
          ],
          "name": "stdout"
        }
      ]
    }
  ]
}