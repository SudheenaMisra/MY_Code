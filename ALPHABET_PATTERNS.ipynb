{
  "nbformat": 4,
  "nbformat_minor": 0,
  "metadata": {
    "colab": {
      "name": "Untitled6.ipynb",
      "provenance": [],
      "authorship_tag": "ABX9TyN2o5AiKre8WIhiO907BFRy",
      "include_colab_link": true
    },
    "kernelspec": {
      "name": "python3",
      "display_name": "Python 3"
    }
  },
  "cells": [
    {
      "cell_type": "markdown",
      "metadata": {
        "id": "view-in-github",
        "colab_type": "text"
      },
      "source": [
        "<a href=\"https://colab.research.google.com/github/SudheenaMisra/MY_Code/blob/main/ALPHABET_PATTERNS.ipynb\" target=\"_parent\"><img src=\"https://colab.research.google.com/assets/colab-badge.svg\" alt=\"Open In Colab\"/></a>"
      ]
    },
    {
      "cell_type": "code",
      "metadata": {
        "colab": {
          "base_uri": "https://localhost:8080/"
        },
        "id": "_XzkIGunBgA7",
        "outputId": "5ccb4701-1660-40c3-d27d-01aaad60889c"
      },
      "source": [
        "for i in range(7):\r\n",
        "    for j in range(5):\r\n",
        "        if (i !=0 and (j==0 or j==4)) or ((i==0 or i ==3) and (j>0 and j<4)):\r\n",
        "            print(\"@\", end=\" \")\r\n",
        "        else:\r\n",
        "            print(end=\"  \")\r\n",
        "    print()"
      ],
      "execution_count": 1,
      "outputs": [
        {
          "output_type": "stream",
          "text": [
            "  @ @ @   \n",
            "@       @ \n",
            "@       @ \n",
            "@ @ @ @ @ \n",
            "@       @ \n",
            "@       @ \n",
            "@       @ \n"
          ],
          "name": "stdout"
        }
      ]
    },
    {
      "cell_type": "markdown",
      "metadata": {
        "id": "sLKvqSZkCHIi"
      },
      "source": [
        "PATTERN_A"
      ]
    },
    {
      "cell_type": "code",
      "metadata": {
        "colab": {
          "base_uri": "https://localhost:8080/"
        },
        "id": "98XaiYnhCJIG",
        "outputId": "6a6b7fc1-425d-4daa-8e28-c75aefe394e6"
      },
      "source": [
        "for i in range(9):\r\n",
        "    for j in range(5):\r\n",
        "        if (j==0 ) or ((i==0 or i==4 or i==8) and (j>0 and j<4)) or (j==4 and (i>0 and i<8 and i!=4)):\r\n",
        "            print(\"@\", end=\" \")\r\n",
        "        else:\r\n",
        "            print(end=\"  \")\r\n",
        "    print()\r\n"
      ],
      "execution_count": 2,
      "outputs": [
        {
          "output_type": "stream",
          "text": [
            "@ @ @ @   \n",
            "@       @ \n",
            "@       @ \n",
            "@       @ \n",
            "@ @ @ @   \n",
            "@       @ \n",
            "@       @ \n",
            "@       @ \n",
            "@ @ @ @   \n"
          ],
          "name": "stdout"
        }
      ]
    },
    {
      "cell_type": "markdown",
      "metadata": {
        "id": "OpPblSktCNw_"
      },
      "source": [
        "PATTERN_B"
      ]
    },
    {
      "cell_type": "code",
      "metadata": {
        "colab": {
          "base_uri": "https://localhost:8080/"
        },
        "id": "FlyWgjRJCJQm",
        "outputId": "3a91f423-05d3-47c6-ab60-71aa2a7d071b"
      },
      "source": [
        "\r\n",
        "for i in range(5):\r\n",
        "    for j in range(4):\r\n",
        "        if (j==0 and (i!=0 and i!=4)) or ((i==0 or i==4) and j>0):\r\n",
        "            print(\"@\", end=\" \")\r\n",
        "        else:\r\n",
        "            print(end=\"  \")\r\n",
        "    print()"
      ],
      "execution_count": 3,
      "outputs": [
        {
          "output_type": "stream",
          "text": [
            "  @ @ @ \n",
            "@       \n",
            "@       \n",
            "@       \n",
            "  @ @ @ \n"
          ],
          "name": "stdout"
        }
      ]
    },
    {
      "cell_type": "markdown",
      "metadata": {
        "id": "sYuej7UtCT9o"
      },
      "source": [
        "PATTERN_C"
      ]
    },
    {
      "cell_type": "code",
      "metadata": {
        "colab": {
          "base_uri": "https://localhost:8080/"
        },
        "id": "kv0b2zVrCVu2",
        "outputId": "28c078f2-8211-4b81-c964-72af2754f556"
      },
      "source": [
        "\r\n",
        "for i in range(6):\r\n",
        "    for j in range(5):\r\n",
        "        if (j==0) or ((i==0 or i==5) and (j<4)) or (j==4 and (i>0 and i<5 )):\r\n",
        "            print(\"@\", end=\" \")\r\n",
        "        else:\r\n",
        "            print(end=\"  \")\r\n",
        "    print()"
      ],
      "execution_count": 4,
      "outputs": [
        {
          "output_type": "stream",
          "text": [
            "@ @ @ @   \n",
            "@       @ \n",
            "@       @ \n",
            "@       @ \n",
            "@       @ \n",
            "@ @ @ @   \n"
          ],
          "name": "stdout"
        }
      ]
    },
    {
      "cell_type": "markdown",
      "metadata": {
        "id": "E-52GcViCXQZ"
      },
      "source": [
        "PATTERN_D"
      ]
    },
    {
      "cell_type": "code",
      "metadata": {
        "colab": {
          "base_uri": "https://localhost:8080/"
        },
        "id": "ogGOlMcsCXfE",
        "outputId": "2f6dfb63-d036-4ae2-d3c7-e67597795f0e"
      },
      "source": [
        "\r\n",
        "for i in range (7):\r\n",
        "    for j in range(4):\r\n",
        "        if j==0 or i==0 or i ==3 or i==6 :\r\n",
        "            print(\"@\", end=\" \")\r\n",
        "        else:\r\n",
        "            print(end=\"  \")\r\n",
        "    print()\r\n"
      ],
      "execution_count": 5,
      "outputs": [
        {
          "output_type": "stream",
          "text": [
            "@ @ @ @ \n",
            "@       \n",
            "@       \n",
            "@ @ @ @ \n",
            "@       \n",
            "@       \n",
            "@ @ @ @ \n"
          ],
          "name": "stdout"
        }
      ]
    },
    {
      "cell_type": "markdown",
      "metadata": {
        "id": "TtHNmoYSCcg9"
      },
      "source": [
        "PATTERN_E"
      ]
    },
    {
      "cell_type": "code",
      "metadata": {
        "colab": {
          "base_uri": "https://localhost:8080/"
        },
        "id": "Vdz2XbIQCdUf",
        "outputId": "3b738e69-ed6a-4b70-ce23-61f02cb4ea29"
      },
      "source": [
        "for i in range (7):\r\n",
        "    for j in range(4):\r\n",
        "        if j==0 or i ==0 or i==3:\r\n",
        "            print(\"@\", end=\" \")\r\n",
        "        else:\r\n",
        "            print(end=\"  \")\r\n",
        "    print()\r\n"
      ],
      "execution_count": 6,
      "outputs": [
        {
          "output_type": "stream",
          "text": [
            "@ @ @ @ \n",
            "@       \n",
            "@       \n",
            "@ @ @ @ \n",
            "@       \n",
            "@       \n",
            "@       \n"
          ],
          "name": "stdout"
        }
      ]
    },
    {
      "cell_type": "markdown",
      "metadata": {
        "id": "1eSE2HHqCgU-"
      },
      "source": [
        "PATTERN_F"
      ]
    },
    {
      "cell_type": "code",
      "metadata": {
        "colab": {
          "base_uri": "https://localhost:8080/"
        },
        "id": "4y9ad2iqCgpp",
        "outputId": "be2810a1-3230-4d4d-c059-487d42f9e8a8"
      },
      "source": [
        "for i in range(5):\r\n",
        "    for j in range (7):\r\n",
        "        if (j==0 and i!=0 and i!=4) or ((j>0 and j<4) and (i==0 or i==4)) or (i==2 and (j>2 and j<7)) or (j==6 and i>1) \\\r\n",
        "                   or (i==3 and j==4):\r\n",
        "            print(\"@\", end=\" \")\r\n",
        "        else:\r\n",
        "            print(end=\"  \")\r\n",
        "    print()\r\n"
      ],
      "execution_count": 7,
      "outputs": [
        {
          "output_type": "stream",
          "text": [
            "  @ @ @       \n",
            "@             \n",
            "@     @ @ @ @ \n",
            "@       @   @ \n",
            "  @ @ @     @ \n"
          ],
          "name": "stdout"
        }
      ]
    },
    {
      "cell_type": "markdown",
      "metadata": {
        "id": "nUfxwsmtCjXx"
      },
      "source": [
        "PATTERN_G"
      ]
    },
    {
      "cell_type": "code",
      "metadata": {
        "colab": {
          "base_uri": "https://localhost:8080/"
        },
        "id": "S0S9B7u_Cjjt",
        "outputId": "6c01e420-0f83-4352-9b92-c757c1ab3481"
      },
      "source": [
        "for i in range(7):\r\n",
        "    for j in range(6):\r\n",
        "        if j==0 or j==5 or i==3:\r\n",
        "            print(\"@\", end=\" \")\r\n",
        "        else:\r\n",
        "            print(end=\"  \")\r\n",
        "    print()"
      ],
      "execution_count": 8,
      "outputs": [
        {
          "output_type": "stream",
          "text": [
            "@         @ \n",
            "@         @ \n",
            "@         @ \n",
            "@ @ @ @ @ @ \n",
            "@         @ \n",
            "@         @ \n",
            "@         @ \n"
          ],
          "name": "stdout"
        }
      ]
    },
    {
      "cell_type": "markdown",
      "metadata": {
        "id": "d9bYvQvcClzj"
      },
      "source": [
        "PATTERN_H"
      ]
    },
    {
      "cell_type": "code",
      "metadata": {
        "colab": {
          "base_uri": "https://localhost:8080/"
        },
        "id": "MvBuc4izCl8r",
        "outputId": "eddaae25-bf8f-461b-84a0-6101f86552da"
      },
      "source": [
        "\r\n",
        "for i in range(6):\r\n",
        "    for j in range(5):\r\n",
        "        if i==0 or i ==5 or j==2:\r\n",
        "            print(\"@\", end=\" \")\r\n",
        "        else:\r\n",
        "            print(end=\"  \")\r\n",
        "    print()"
      ],
      "execution_count": 9,
      "outputs": [
        {
          "output_type": "stream",
          "text": [
            "@ @ @ @ @ \n",
            "    @     \n",
            "    @     \n",
            "    @     \n",
            "    @     \n",
            "@ @ @ @ @ \n"
          ],
          "name": "stdout"
        }
      ]
    },
    {
      "cell_type": "markdown",
      "metadata": {
        "id": "94FoInL7CoVN"
      },
      "source": [
        "PATTERN_I"
      ]
    },
    {
      "cell_type": "code",
      "metadata": {
        "colab": {
          "base_uri": "https://localhost:8080/"
        },
        "id": "FKyO6XfUDKVq",
        "outputId": "0621b7f7-dda2-4f1e-dd03-3e81d24f789d"
      },
      "source": [
        "for i in range(6):\r\n",
        "    for j in range(7):\r\n",
        "        if j==3 or (i==5 and (j>0 and j<3)) or (i==4 and j==0) or (i==0 and (j>0 and j<6)):\r\n",
        "            print(\"@\", end=\" \")\r\n",
        "        else:\r\n",
        "            print(end=\"  \")\r\n",
        "    print()"
      ],
      "execution_count": 11,
      "outputs": [
        {
          "output_type": "stream",
          "text": [
            "  @ @ @ @ @   \n",
            "      @       \n",
            "      @       \n",
            "      @       \n",
            "@     @       \n",
            "  @ @ @       \n"
          ],
          "name": "stdout"
        }
      ]
    },
    {
      "cell_type": "markdown",
      "metadata": {
        "id": "uOHWC7rrDPP_"
      },
      "source": [
        "PATTERN_J"
      ]
    },
    {
      "cell_type": "code",
      "metadata": {
        "colab": {
          "base_uri": "https://localhost:8080/"
        },
        "id": "OiqYciBXDKWq",
        "outputId": "9f85a2de-ce18-4d77-ceef-8fde24df5720"
      },
      "source": [
        "for i in range(5):\r\n",
        "     for j in range(4):\r\n",
        "         if j==0 :\r\n",
        "             print(\"@\", end=\" \")\r\n",
        "     for k in range(2-i):\r\n",
        "         print(\" \",end=\" \")\r\n",
        "\r\n",
        "     for l in range(3,i+1):\r\n",
        "         print(\" \",end=\" \")\r\n",
        "\r\n",
        "     print(\"@\", end=\" \")\r\n",
        "\r\n",
        "     print()"
      ],
      "execution_count": 12,
      "outputs": [
        {
          "output_type": "stream",
          "text": [
            "@     @ \n",
            "@   @ \n",
            "@ @ \n",
            "@   @ \n",
            "@     @ \n"
          ],
          "name": "stdout"
        }
      ]
    },
    {
      "cell_type": "markdown",
      "metadata": {
        "id": "Sop3FtjEDlBb"
      },
      "source": [
        "PATTERN_K"
      ]
    },
    {
      "cell_type": "code",
      "metadata": {
        "id": "E6mM81f5Dl1F"
      },
      "source": [
        "for i in range(5):\r\n",
        "    for j in range(4):\r\n",
        "        if j==0 or i==4:\r\n",
        "            print(\"@\",end=\" \")\r\n",
        "\r\n",
        "    print()"
      ],
      "execution_count": null,
      "outputs": []
    },
    {
      "cell_type": "markdown",
      "metadata": {
        "id": "zwiy6ySeDp1I"
      },
      "source": [
        "PATTERN_L"
      ]
    },
    {
      "cell_type": "code",
      "metadata": {
        "colab": {
          "base_uri": "https://localhost:8080/"
        },
        "id": "Gc0EfkJgDqGZ",
        "outputId": "c79828c9-a240-4be3-92a4-d17ef9273b66"
      },
      "source": [
        "for i in range(4):\r\n",
        "    for j in range(7):\r\n",
        "        if j==0 :\r\n",
        "            print(\"@\", end=\"\")\r\n",
        "        # else:\r\n",
        "        #     print(end=\"  \")\r\n",
        "    for k in range(1,i+1):\r\n",
        "        print(\" \",end=\" \")\r\n",
        "    print(\"@\",end=\"\")\r\n",
        "    for l in range(1,4-i):\r\n",
        "        print(\" \",end=\" \")\r\n",
        "\r\n",
        "    for k in range(1,4-i):\r\n",
        "        print(\" \",end=\" \")\r\n",
        "    print(end=\"@\")\r\n",
        "\r\n",
        "    for m in range(1,i+1):\r\n",
        "        print(\" \",end=\" \")\r\n",
        "    print(\"@\",end=\" \")\r\n",
        "    print()\r\n",
        "for p in range(3):\r\n",
        "    for n in range(6):\r\n",
        "        if n==0 or n==5:\r\n",
        "            print(\"@ \",end=\" \")\r\n",
        "        else:\r\n",
        "            print(end=\"   \")\r\n",
        "    print()"
      ],
      "execution_count": 13,
      "outputs": [
        {
          "output_type": "stream",
          "text": [
            "@@            @@ \n",
            "@  @        @  @ \n",
            "@    @    @    @ \n",
            "@      @@      @ \n",
            "@              @  \n",
            "@              @  \n",
            "@              @  \n"
          ],
          "name": "stdout"
        }
      ]
    },
    {
      "cell_type": "markdown",
      "metadata": {
        "id": "EEF50LwXD0Mk"
      },
      "source": [
        "PATTERN_M"
      ]
    },
    {
      "cell_type": "code",
      "metadata": {
        "colab": {
          "base_uri": "https://localhost:8080/"
        },
        "id": "4cImjP9AD0dD",
        "outputId": "85c298a5-07a2-41ab-d882-39a33b60e52f"
      },
      "source": [
        "for i in range(6):\r\n",
        "    for j in range(7):\r\n",
        "        if j==0 or j==6 or (j==i and j<4) or ((i+j==6) and i<3):\r\n",
        "            print(\"@\", end=\" \")\r\n",
        "        else:\r\n",
        "            print(end=\"  \")\r\n",
        "    print()"
      ],
      "execution_count": 14,
      "outputs": [
        {
          "output_type": "stream",
          "text": [
            "@           @ \n",
            "@ @       @ @ \n",
            "@   @   @   @ \n",
            "@     @     @ \n",
            "@           @ \n",
            "@           @ \n"
          ],
          "name": "stdout"
        }
      ]
    },
    {
      "cell_type": "markdown",
      "metadata": {
        "id": "Nkli3TxkEBkD"
      },
      "source": [
        "PATTERN_M_ANOTHER WAY"
      ]
    },
    {
      "cell_type": "code",
      "metadata": {
        "colab": {
          "base_uri": "https://localhost:8080/"
        },
        "id": "xv97qdI2ECTq",
        "outputId": "3834b365-3671-43c9-cc7f-bef19d1853eb"
      },
      "source": [
        "for i in range(7):\r\n",
        "    for j in range(7):\r\n",
        "        if j==0 or i==j or j==6:\r\n",
        "            print(\"@\", end=\" \")\r\n",
        "        else:\r\n",
        "            print(end=\"  \")\r\n",
        "    print()\r\n"
      ],
      "execution_count": 15,
      "outputs": [
        {
          "output_type": "stream",
          "text": [
            "@           @ \n",
            "@ @         @ \n",
            "@   @       @ \n",
            "@     @     @ \n",
            "@       @   @ \n",
            "@         @ @ \n",
            "@           @ \n"
          ],
          "name": "stdout"
        }
      ]
    },
    {
      "cell_type": "markdown",
      "metadata": {
        "id": "nB5Z39bTEHB1"
      },
      "source": [
        "PATTERN_N"
      ]
    },
    {
      "cell_type": "code",
      "metadata": {
        "colab": {
          "base_uri": "https://localhost:8080/"
        },
        "id": "9W2X5VjREHWx",
        "outputId": "995afc91-2476-4e27-fba7-25ae47e54268"
      },
      "source": [
        "for i in range(7):\r\n",
        "    for j in range(7):\r\n",
        "        if j==0 or i+j==6 or j==6:\r\n",
        "            print(\"@\", end=\" \")\r\n",
        "        else:\r\n",
        "            print(end=\"  \")\r\n",
        "    print()"
      ],
      "execution_count": 16,
      "outputs": [
        {
          "output_type": "stream",
          "text": [
            "@           @ \n",
            "@         @ @ \n",
            "@       @   @ \n",
            "@     @     @ \n",
            "@   @       @ \n",
            "@ @         @ \n",
            "@           @ \n"
          ],
          "name": "stdout"
        }
      ]
    },
    {
      "cell_type": "markdown",
      "metadata": {
        "id": "CF5OhfgkEV2R"
      },
      "source": [
        "PATTERN_MIRROR_N"
      ]
    },
    {
      "cell_type": "code",
      "metadata": {
        "colab": {
          "base_uri": "https://localhost:8080/"
        },
        "id": "zsQx7W9xEWIP",
        "outputId": "ecb33243-09f7-446c-bb70-04de28c2ccfb"
      },
      "source": [
        "for i in range(6):\r\n",
        "    for j in range(5):\r\n",
        "        if ((i==0 or i==5) and (j!=0 and j!=4)) or ((j==0 or j==4) and (i>0 and i<5)):\r\n",
        "            print(\"@\",end=\" \")\r\n",
        "        else:\r\n",
        "            print(end=\"  \")\r\n",
        "    print()"
      ],
      "execution_count": 17,
      "outputs": [
        {
          "output_type": "stream",
          "text": [
            "  @ @ @   \n",
            "@       @ \n",
            "@       @ \n",
            "@       @ \n",
            "@       @ \n",
            "  @ @ @   \n"
          ],
          "name": "stdout"
        }
      ]
    },
    {
      "cell_type": "markdown",
      "metadata": {
        "id": "GcKelBtDEppd"
      },
      "source": [
        "PATTERN_O"
      ]
    },
    {
      "cell_type": "code",
      "metadata": {
        "colab": {
          "base_uri": "https://localhost:8080/"
        },
        "id": "9o1yAZTzEp6I",
        "outputId": "834d39ff-5162-4cc9-af0e-1376ca473605"
      },
      "source": [
        "for i in range(6):\r\n",
        "    for j in range(5):\r\n",
        "        if j==0 or ((i==0 or i==3) and j<4) or (j==4 and i!=0 and i<3):\r\n",
        "            print(\"@\", end=\" \")\r\n",
        "        else:print(end=\"  \")\r\n",
        "    print()"
      ],
      "execution_count": 18,
      "outputs": [
        {
          "output_type": "stream",
          "text": [
            "@ @ @ @   \n",
            "@       @ \n",
            "@       @ \n",
            "@ @ @ @   \n",
            "@         \n",
            "@         \n"
          ],
          "name": "stdout"
        }
      ]
    },
    {
      "cell_type": "markdown",
      "metadata": {
        "id": "pMcaHzXbEtOD"
      },
      "source": [
        "PATTERN_P"
      ]
    },
    {
      "cell_type": "code",
      "metadata": {
        "colab": {
          "base_uri": "https://localhost:8080/"
        },
        "id": "Yv4nccTHEt-q",
        "outputId": "a5ba02e5-7153-4034-fc17-14ab593b0ad7"
      },
      "source": [
        "for i in range(7):\r\n",
        "    for j in range(5):\r\n",
        "        if ((i==0 or i==5) and (j!=0 and j!=4)) or ((j==0 or j==4) and (i!=0 and i!=5 and i!=6)) or (j==2 and i==4) or (j==4 and i==6):\r\n",
        "            print(\"@\",end=\" \")\r\n",
        "        else:\r\n",
        "            print(end=\"  \")\r\n",
        "    print()"
      ],
      "execution_count": 19,
      "outputs": [
        {
          "output_type": "stream",
          "text": [
            "  @ @ @   \n",
            "@       @ \n",
            "@       @ \n",
            "@       @ \n",
            "@   @   @ \n",
            "  @ @ @   \n",
            "        @ \n"
          ],
          "name": "stdout"
        }
      ]
    },
    {
      "cell_type": "markdown",
      "metadata": {
        "id": "Fq_z3LhHE1rl"
      },
      "source": [
        "PATTERN_Q"
      ]
    },
    {
      "cell_type": "code",
      "metadata": {
        "colab": {
          "base_uri": "https://localhost:8080/"
        },
        "id": "1YGjW7lFE13Z",
        "outputId": "6aba2b70-c56b-42bc-ab7d-7eee91fe8431"
      },
      "source": [
        "for i in range(7):\r\n",
        "    for j in range(5):\r\n",
        "        if j==0 or (j==4 and i!=0 and i!=3) or ((i==3 or i==0) and (j!=0 and j!=4)):\r\n",
        "            print(\"@\",end=\" \")\r\n",
        "        else:\r\n",
        "            print(end=\"  \")\r\n",
        "    print()"
      ],
      "execution_count": 20,
      "outputs": [
        {
          "output_type": "stream",
          "text": [
            "@ @ @ @   \n",
            "@       @ \n",
            "@       @ \n",
            "@ @ @ @   \n",
            "@       @ \n",
            "@       @ \n",
            "@       @ \n"
          ],
          "name": "stdout"
        }
      ]
    },
    {
      "cell_type": "markdown",
      "metadata": {
        "id": "tSG3c-QqE5lJ"
      },
      "source": [
        "PATTERN_R"
      ]
    },
    {
      "cell_type": "code",
      "metadata": {
        "colab": {
          "base_uri": "https://localhost:8080/"
        },
        "id": "aeYpHuDkE8Bk",
        "outputId": "64a3c995-2909-4f78-ef58-3ef0ab9fde47"
      },
      "source": [
        "for i in range(9):\r\n",
        "    for j in range(5):\r\n",
        "        if ((i==0 or i==4 or i==8) and (j!=0 and j!=4)) or (j==0 and i!=0 and i<4) or (j==4 and i>4 and i!=8):\r\n",
        "            print(\"@\", end=\" \")\r\n",
        "        else:\r\n",
        "            print(end=\"  \")\r\n",
        "    print()"
      ],
      "execution_count": 21,
      "outputs": [
        {
          "output_type": "stream",
          "text": [
            "  @ @ @   \n",
            "@         \n",
            "@         \n",
            "@         \n",
            "  @ @ @   \n",
            "        @ \n",
            "        @ \n",
            "        @ \n",
            "  @ @ @   \n"
          ],
          "name": "stdout"
        }
      ]
    },
    {
      "cell_type": "markdown",
      "metadata": {
        "id": "Zuk96qoYE5no"
      },
      "source": [
        "PATTERN_S"
      ]
    },
    {
      "cell_type": "code",
      "metadata": {
        "colab": {
          "base_uri": "https://localhost:8080/"
        },
        "id": "6LdmFR4LFA18",
        "outputId": "07e23cb7-2b93-447a-a1cf-0b126fc4ca29"
      },
      "source": [
        "for i in range(5):\r\n",
        "    for j in range(5):\r\n",
        "        if i==0 or j==2:\r\n",
        "            print(\"@\",end=\" \")\r\n",
        "        else:\r\n",
        "            print(end=\"  \")\r\n",
        "    print()"
      ],
      "execution_count": 22,
      "outputs": [
        {
          "output_type": "stream",
          "text": [
            "@ @ @ @ @ \n",
            "    @     \n",
            "    @     \n",
            "    @     \n",
            "    @     \n"
          ],
          "name": "stdout"
        }
      ]
    },
    {
      "cell_type": "markdown",
      "metadata": {
        "id": "E7_q0adAE5qw"
      },
      "source": [
        "PATTERN_T"
      ]
    },
    {
      "cell_type": "code",
      "metadata": {
        "colab": {
          "base_uri": "https://localhost:8080/"
        },
        "id": "bDeivELIFG4-",
        "outputId": "7ceda613-7a51-4a06-ac94-6aa2c2d3d8ca"
      },
      "source": [
        "for i in  range(4):\r\n",
        "    for j in range(5):\r\n",
        "        if ((j==0 or j==4) and i!=3) or (i==3 and j!=0 and j!=4):\r\n",
        "            print(\"@\",end=\" \")\r\n",
        "        else:\r\n",
        "            print(end=\"  \")\r\n",
        "    print()"
      ],
      "execution_count": 23,
      "outputs": [
        {
          "output_type": "stream",
          "text": [
            "@       @ \n",
            "@       @ \n",
            "@       @ \n",
            "  @ @ @   \n"
          ],
          "name": "stdout"
        }
      ]
    },
    {
      "cell_type": "markdown",
      "metadata": {
        "id": "kkvm7snbFLeP"
      },
      "source": [
        "PATTERN_U"
      ]
    },
    {
      "cell_type": "code",
      "metadata": {
        "colab": {
          "base_uri": "https://localhost:8080/"
        },
        "id": "uwPBvSR6FMD6",
        "outputId": "348e5bee-f85c-4706-bb94-4309f9a1df2d"
      },
      "source": [
        "for i in range(6):\r\n",
        "    for j in range(4):\r\n",
        "        if i==j:\r\n",
        "            print(\"@\", end=\"\")\r\n",
        "        else:\r\n",
        "            print(end=\" \")\r\n",
        "\r\n",
        "    for k in range(5):\r\n",
        "        if i+k==4:\r\n",
        "            print(\"@\",end=\"\")\r\n",
        "        else:print(end=\" \")\r\n",
        "    print()"
      ],
      "execution_count": 24,
      "outputs": [
        {
          "output_type": "stream",
          "text": [
            "@       @\n",
            " @     @ \n",
            "  @   @  \n",
            "   @ @   \n",
            "    @    \n",
            "         \n"
          ],
          "name": "stdout"
        }
      ]
    },
    {
      "cell_type": "markdown",
      "metadata": {
        "id": "rnylw8gVFQNU"
      },
      "source": [
        "PATTERN_V"
      ]
    },
    {
      "cell_type": "code",
      "metadata": {
        "colab": {
          "base_uri": "https://localhost:8080/"
        },
        "id": "CVV5i633FQaB",
        "outputId": "39bcff74-b3ca-4818-9bab-472b84137640"
      },
      "source": [
        "for i in range (4):\r\n",
        "     for j in range(4):\r\n",
        "         if j==0 or i+j == 3:\r\n",
        "             print(\"@\",end=\" \")\r\n",
        "         else:print(end=\"  \")\r\n",
        "     for k in range(1,4):\r\n",
        "         if i==k or k==3:\r\n",
        "             print(\"@\",end=\" \")\r\n",
        "         else:print(end=\"  \")\r\n",
        "     print()"
      ],
      "execution_count": 25,
      "outputs": [
        {
          "output_type": "stream",
          "text": [
            "@     @     @ \n",
            "@   @   @   @ \n",
            "@ @       @ @ \n",
            "@           @ \n"
          ],
          "name": "stdout"
        }
      ]
    },
    {
      "cell_type": "markdown",
      "metadata": {
        "id": "XRVqB6mxFdjZ"
      },
      "source": [
        "PATTERN_W"
      ]
    },
    {
      "cell_type": "code",
      "metadata": {
        "colab": {
          "base_uri": "https://localhost:8080/"
        },
        "id": "QZTAO7BQFd8J",
        "outputId": "99130467-f1c8-492c-e0e5-e9eb458cdc07"
      },
      "source": [
        "for i in range(7):\r\n",
        "    for j in range(7):\r\n",
        "        if i==j or i+j==6:\r\n",
        "            print(\"@\",end=\" \")\r\n",
        "        else:print(end=\"  \")\r\n",
        "    print()"
      ],
      "execution_count": 26,
      "outputs": [
        {
          "output_type": "stream",
          "text": [
            "@           @ \n",
            "  @       @   \n",
            "    @   @     \n",
            "      @       \n",
            "    @   @     \n",
            "  @       @   \n",
            "@           @ \n"
          ],
          "name": "stdout"
        }
      ]
    },
    {
      "cell_type": "markdown",
      "metadata": {
        "id": "FChkLssoFkzV"
      },
      "source": [
        "PATTERN_X"
      ]
    },
    {
      "cell_type": "code",
      "metadata": {
        "colab": {
          "base_uri": "https://localhost:8080/"
        },
        "id": "uSszzKj4FlUr",
        "outputId": "6573ec2b-88b2-4de0-c93e-c0d5ce2def3c"
      },
      "source": [
        "for i in range(7):\r\n",
        "    for j in range(7):\r\n",
        "        if (i==j and i<3) or (i+j==6 and i<4) or (j==3 and i>3):\r\n",
        "            print(\"@\",end=\" \")\r\n",
        "        else:print(end=\"  \")\r\n",
        "    print()"
      ],
      "execution_count": 27,
      "outputs": [
        {
          "output_type": "stream",
          "text": [
            "@           @ \n",
            "  @       @   \n",
            "    @   @     \n",
            "      @       \n",
            "      @       \n",
            "      @       \n",
            "      @       \n"
          ],
          "name": "stdout"
        }
      ]
    },
    {
      "cell_type": "markdown",
      "metadata": {
        "id": "M6CridjiFq5x"
      },
      "source": [
        "PATTERN_Y"
      ]
    },
    {
      "cell_type": "code",
      "metadata": {
        "colab": {
          "base_uri": "https://localhost:8080/"
        },
        "id": "o7pufzELFrN6",
        "outputId": "eadc5548-a475-4934-8126-9ff719493f87"
      },
      "source": [
        "for i in range(6):\r\n",
        "    for j in range(6):\r\n",
        "        if i==0 or i==5 or i+j==5:\r\n",
        "            print(\"@\",end=\" \")\r\n",
        "        else:print(end=\"  \")\r\n",
        "    print()\r\n"
      ],
      "execution_count": 28,
      "outputs": [
        {
          "output_type": "stream",
          "text": [
            "@ @ @ @ @ @ \n",
            "        @   \n",
            "      @     \n",
            "    @       \n",
            "  @         \n",
            "@ @ @ @ @ @ \n"
          ],
          "name": "stdout"
        }
      ]
    },
    {
      "cell_type": "markdown",
      "metadata": {
        "id": "W7937O0PFe6r"
      },
      "source": [
        "PATTERN_Z"
      ]
    }
  ]
}